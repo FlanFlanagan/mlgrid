{
 "cells": [
  {
   "cell_type": "code",
   "execution_count": 1,
   "metadata": {},
   "outputs": [],
   "source": [
    "import pandas as pd\n",
    "import geopandas as gp\n",
    "import numpy as np\n",
    "import geoplot as gplt\n",
    "import random\n",
    "import matplotlib.pyplot as plt\n",
    "from shapely.geometry import Polygon\n",
    "import parry.binning_functions as pbf\n",
    "from shapely.strtree import STRtree\n",
    "import mapclassify as mc\n",
    "import json"
   ]
  },
  {
   "cell_type": "code",
   "execution_count": 2,
   "metadata": {},
   "outputs": [],
   "source": [
    "def gen_poly(x1, x2, x3, y1, y2, y3):\n",
    "    poly1 = Polygon(((0, 0), (0, y1), (x1, y1), (x1, 0)))\n",
    "    poly2 = Polygon(((0, y1+y2), (0, y1+y2+y3), (x1, y1+y2+y3), (x1, y1+y2)))\n",
    "    poly3 = Polygon(((x1+x2, 0), (x1+x2, y1), (x1+x2+x3, y1), (x1+x2+x3, 0)))\n",
    "    poly4 = Polygon(((x1+x2, y1+y2), (x1+x2, y1+y2+y3), (x1+x2+x3, y1+y2+y3), (x1+x2+x3, y1+y2)))\n",
    "    polys = [poly1, poly2, poly3, poly4]\n",
    "    return gp.GeoDataFrame(geometry=polys)\n",
    "\n",
    "def gen_triangle(x1, x2, x3, y1, y2, y3):\n",
    "    poly1 = Polygon(((0, 0), (0, y1), (x1, y1)))\n",
    "    #poly2 = Polygon(((0, y1+y2), (0, y1+y2+y3), (x1, y1+y2+y3), (x1, y1+y2)))\n",
    "    #poly3 = Polygon(((x1+x2, 0), (x1+x2, y1), (x1+x2+x3, y1), (x1+x2+x3, 0)))\n",
    "    #poly4 = Polygon(((x1+x2, y1+y2), (x1+x2, y1+y2+y3), (x1+x2+x3, y1+y2+y3), (x1+x2+x3, y1+y2)))\n",
    "    polys = [poly1]\n",
    "    #polys = [poly1, poly2, poly3, poly4]\n",
    "    return gp.GeoDataFrame(geometry=polys)"
   ]
  },
  {
   "cell_type": "code",
   "execution_count": 3,
   "metadata": {},
   "outputs": [],
   "source": [
    "test_grid =[]\n",
    "polys = []\n",
    "maxes = []\n",
    "for i in range(1):\n",
    "    x1 = np.random.uniform(40., 80)\n",
    "    x2 = np.random.uniform(0., 20)\n",
    "    y1 = np.random.uniform(40., 80)\n",
    "    y2 = np.random.uniform(0., 20)\n",
    "    polys.append(gen_triangle(x1, x2, x1, y1, y2, y1))\n",
    "    maxes.append((x1+x2+x1, y1+y2+y1))"
   ]
  },
  {
   "cell_type": "code",
   "execution_count": 4,
   "metadata": {},
   "outputs": [],
   "source": [
    "grids = []\n",
    "for i in range(1):\n",
    "    grid = []\n",
    "    x_max = maxes[i][0]\n",
    "    y_max = maxes[i][1]\n",
    "    xs = np.linspace(0, x_max, 60)\n",
    "    ys = np.linspace(0, y_max, 60)\n",
    "    for x in range(len(xs)-1):\n",
    "        for y in range(len(ys)-1):\n",
    "            poly = Polygon(((xs[x], ys[y]),(xs[x], ys[y+1]),(xs[x+1], ys[y+1]),(xs[x+1], ys[y])))\n",
    "            grid.append(poly)\n",
    "    grids.append(gp.GeoDataFrame(geometry=grid))"
   ]
  },
  {
   "cell_type": "code",
   "execution_count": 7,
   "metadata": {},
   "outputs": [
    {
     "name": "stdout",
     "output_type": "stream",
     "text": [
      "0\n"
     ]
    }
   ],
   "source": [
    "streets=[]\n",
    "for i in range(len(grids)):\n",
    "    print(i)\n",
    "    x = gp.sjoin(grids[i], polys[i], op='intersects')\n",
    "    grids[i]['count']=0.0\n",
    "    street = grids[i].drop(x.index)\n",
    "    #building_grid.append(x)\n",
    "    #streets.append(street)\n",
    "    street['count']=0.0\n",
    "    samplePoints = pbf.polygon_centroid_to_point(street)\n",
    "    rays = pbf.build_lines_from_point(samplePoints, 10, 36)\n",
    "    raysWithBuildings = gp.sjoin(rays, polys[i], op=\"intersects\")\n",
    "    rays = rays.drop(raysWithBuildings.index.values.tolist())\n",
    "    tree_list = list(rays['geometry']) + list(street['geometry'])\n",
    "    strtree=STRtree(tree_list)\n",
    "    pbf.accumulate_counts(strtree, street, 6, lat_flag=False)\n",
    "    for j in street.index:\n",
    "        grids[i].at[j, 'count'] = street.at[j,'count']\n",
    "    test = []\n",
    "    with open('test.txt', 'a') as outfile:\n",
    "        temp = (list(ins), list(outs))\n",
    "        json.dump(list(grids[i]['count']), outfile)\n",
    "    ax = x.plot()\n",
    "    scheme = mc.Quantiles(street['count'], k=10)\n",
    "    gplt.choropleth(street, ax=ax, hue='count', k=10, legend=True)\n",
    "    plt.savefig('x_'+str(i)+'.png')\n",
    "    plt.close()"
   ]
  },
  {
   "cell_type": "code",
   "execution_count": 13,
   "metadata": {},
   "outputs": [
    {
     "ename": "AttributeError",
     "evalue": "'EqualInterval' object has no attribute 'lower'",
     "output_type": "error",
     "traceback": [
      "\u001b[0;31m---------------------------------------------------------------------------\u001b[0m",
      "\u001b[0;31mAttributeError\u001b[0m                            Traceback (most recent call last)",
      "\u001b[0;32m<ipython-input-13-447e55a1cb2c>\u001b[0m in \u001b[0;36m<module>\u001b[0;34m\u001b[0m\n\u001b[1;32m      1\u001b[0m \u001b[0mscheme\u001b[0m \u001b[0;34m=\u001b[0m \u001b[0mmc\u001b[0m\u001b[0;34m.\u001b[0m\u001b[0mEqualInterval\u001b[0m\u001b[0;34m(\u001b[0m\u001b[0mstreet\u001b[0m\u001b[0;34m[\u001b[0m\u001b[0;34m'count'\u001b[0m\u001b[0;34m]\u001b[0m\u001b[0;34m)\u001b[0m\u001b[0;34m\u001b[0m\u001b[0;34m\u001b[0m\u001b[0m\n\u001b[1;32m      2\u001b[0m \u001b[0max\u001b[0m \u001b[0;34m=\u001b[0m \u001b[0mgrids\u001b[0m\u001b[0;34m[\u001b[0m\u001b[0;36m0\u001b[0m\u001b[0;34m]\u001b[0m\u001b[0;34m.\u001b[0m\u001b[0mplot\u001b[0m\u001b[0;34m(\u001b[0m\u001b[0;34m)\u001b[0m\u001b[0;34m\u001b[0m\u001b[0;34m\u001b[0m\u001b[0m\n\u001b[0;32m----> 3\u001b[0;31m \u001b[0mgplt\u001b[0m\u001b[0;34m.\u001b[0m\u001b[0mchoropleth\u001b[0m\u001b[0;34m(\u001b[0m\u001b[0mstreet\u001b[0m\u001b[0;34m,\u001b[0m \u001b[0max\u001b[0m\u001b[0;34m=\u001b[0m\u001b[0max\u001b[0m\u001b[0;34m,\u001b[0m \u001b[0mhue\u001b[0m\u001b[0;34m=\u001b[0m\u001b[0;34m'count'\u001b[0m\u001b[0;34m,\u001b[0m \u001b[0mscheme\u001b[0m\u001b[0;34m=\u001b[0m\u001b[0mscheme\u001b[0m\u001b[0;34m,\u001b[0m \u001b[0mlegend\u001b[0m\u001b[0;34m=\u001b[0m\u001b[0;32mTrue\u001b[0m\u001b[0;34m)\u001b[0m\u001b[0;34m\u001b[0m\u001b[0;34m\u001b[0m\u001b[0m\n\u001b[0m",
      "\u001b[0;32m~/miniconda3/envs/geopandas/lib/python3.7/site-packages/geoplot/geoplot.py\u001b[0m in \u001b[0;36mchoropleth\u001b[0;34m(df, projection, hue, scheme, k, cmap, categorical, vmin, vmax, legend, legend_kwargs, legend_labels, extent, figsize, ax, **kwargs)\u001b[0m\n\u001b[1;32m    652\u001b[0m \u001b[0;34m\u001b[0m\u001b[0m\n\u001b[1;32m    653\u001b[0m         \u001b[0;32mif\u001b[0m \u001b[0mhue\u001b[0m \u001b[0;32mis\u001b[0m \u001b[0;32mnot\u001b[0m \u001b[0;32mNone\u001b[0m\u001b[0;34m:\u001b[0m\u001b[0;34m\u001b[0m\u001b[0;34m\u001b[0m\u001b[0m\n\u001b[0;32m--> 654\u001b[0;31m             \u001b[0mcmap\u001b[0m\u001b[0;34m,\u001b[0m \u001b[0mcategories\u001b[0m\u001b[0;34m,\u001b[0m \u001b[0mhue_values\u001b[0m \u001b[0;34m=\u001b[0m \u001b[0m_discrete_colorize\u001b[0m\u001b[0;34m(\u001b[0m\u001b[0mcategorical\u001b[0m\u001b[0;34m,\u001b[0m \u001b[0mhue\u001b[0m\u001b[0;34m,\u001b[0m \u001b[0mscheme\u001b[0m\u001b[0;34m,\u001b[0m \u001b[0mk\u001b[0m\u001b[0;34m,\u001b[0m \u001b[0mcmap\u001b[0m\u001b[0;34m,\u001b[0m \u001b[0mvmin\u001b[0m\u001b[0;34m,\u001b[0m \u001b[0mvmax\u001b[0m\u001b[0;34m)\u001b[0m\u001b[0;34m\u001b[0m\u001b[0;34m\u001b[0m\u001b[0m\n\u001b[0m\u001b[1;32m    655\u001b[0m             \u001b[0mcolors\u001b[0m \u001b[0;34m=\u001b[0m \u001b[0;34m[\u001b[0m\u001b[0mcmap\u001b[0m\u001b[0;34m.\u001b[0m\u001b[0mto_rgba\u001b[0m\u001b[0;34m(\u001b[0m\u001b[0mv\u001b[0m\u001b[0;34m)\u001b[0m \u001b[0;32mfor\u001b[0m \u001b[0mv\u001b[0m \u001b[0;32min\u001b[0m \u001b[0mhue_values\u001b[0m\u001b[0;34m]\u001b[0m\u001b[0;34m\u001b[0m\u001b[0;34m\u001b[0m\u001b[0m\n\u001b[1;32m    656\u001b[0m \u001b[0;34m\u001b[0m\u001b[0m\n",
      "\u001b[0;32m~/miniconda3/envs/geopandas/lib/python3.7/site-packages/geoplot/geoplot.py\u001b[0m in \u001b[0;36m_discrete_colorize\u001b[0;34m(categorical, hue, scheme, k, cmap, vmin, vmax)\u001b[0m\n\u001b[1;32m   2414\u001b[0m     \"\"\"\n\u001b[1;32m   2415\u001b[0m     \u001b[0;32mif\u001b[0m \u001b[0;32mnot\u001b[0m \u001b[0mcategorical\u001b[0m\u001b[0;34m:\u001b[0m\u001b[0;34m\u001b[0m\u001b[0;34m\u001b[0m\u001b[0m\n\u001b[0;32m-> 2416\u001b[0;31m         \u001b[0mbinning\u001b[0m \u001b[0;34m=\u001b[0m \u001b[0m_mapclassify_choro\u001b[0m\u001b[0;34m(\u001b[0m\u001b[0mhue\u001b[0m\u001b[0;34m,\u001b[0m \u001b[0mscheme\u001b[0m\u001b[0;34m,\u001b[0m \u001b[0mk\u001b[0m\u001b[0;34m=\u001b[0m\u001b[0mk\u001b[0m\u001b[0;34m)\u001b[0m\u001b[0;34m\u001b[0m\u001b[0;34m\u001b[0m\u001b[0m\n\u001b[0m\u001b[1;32m   2417\u001b[0m         \u001b[0mvalues\u001b[0m \u001b[0;34m=\u001b[0m \u001b[0mbinning\u001b[0m\u001b[0;34m.\u001b[0m\u001b[0myb\u001b[0m\u001b[0;34m\u001b[0m\u001b[0;34m\u001b[0m\u001b[0m\n\u001b[1;32m   2418\u001b[0m         \u001b[0mbinedges\u001b[0m \u001b[0;34m=\u001b[0m \u001b[0;34m[\u001b[0m\u001b[0mbinning\u001b[0m\u001b[0;34m.\u001b[0m\u001b[0myb\u001b[0m\u001b[0;34m.\u001b[0m\u001b[0mmin\u001b[0m\u001b[0;34m(\u001b[0m\u001b[0;34m)\u001b[0m\u001b[0;34m]\u001b[0m \u001b[0;34m+\u001b[0m \u001b[0mbinning\u001b[0m\u001b[0;34m.\u001b[0m\u001b[0mbins\u001b[0m\u001b[0;34m.\u001b[0m\u001b[0mtolist\u001b[0m\u001b[0;34m(\u001b[0m\u001b[0;34m)\u001b[0m\u001b[0;34m\u001b[0m\u001b[0;34m\u001b[0m\u001b[0m\n",
      "\u001b[0;32m~/miniconda3/envs/geopandas/lib/python3.7/site-packages/geopandas/plotting.py\u001b[0m in \u001b[0;36m_mapclassify_choro\u001b[0;34m(values, scheme, **classification_kwds)\u001b[0m\n\u001b[1;32m    671\u001b[0m         \u001b[0mschemes\u001b[0m\u001b[0;34m[\u001b[0m\u001b[0mclassifier\u001b[0m\u001b[0;34m.\u001b[0m\u001b[0mlower\u001b[0m\u001b[0;34m(\u001b[0m\u001b[0;34m)\u001b[0m\u001b[0;34m]\u001b[0m \u001b[0;34m=\u001b[0m \u001b[0mgetattr\u001b[0m\u001b[0;34m(\u001b[0m\u001b[0mclassifiers\u001b[0m\u001b[0;34m,\u001b[0m \u001b[0mclassifier\u001b[0m\u001b[0;34m)\u001b[0m\u001b[0;34m\u001b[0m\u001b[0;34m\u001b[0m\u001b[0m\n\u001b[1;32m    672\u001b[0m \u001b[0;34m\u001b[0m\u001b[0m\n\u001b[0;32m--> 673\u001b[0;31m     \u001b[0mscheme\u001b[0m \u001b[0;34m=\u001b[0m \u001b[0mscheme\u001b[0m\u001b[0;34m.\u001b[0m\u001b[0mlower\u001b[0m\u001b[0;34m(\u001b[0m\u001b[0;34m)\u001b[0m\u001b[0;34m\u001b[0m\u001b[0;34m\u001b[0m\u001b[0m\n\u001b[0m\u001b[1;32m    674\u001b[0m \u001b[0;34m\u001b[0m\u001b[0m\n\u001b[1;32m    675\u001b[0m     \u001b[0;31m# mapclassify < 2.1 cleaned up the scheme names (removing underscores)\u001b[0m\u001b[0;34m\u001b[0m\u001b[0;34m\u001b[0m\u001b[0;34m\u001b[0m\u001b[0m\n",
      "\u001b[0;31mAttributeError\u001b[0m: 'EqualInterval' object has no attribute 'lower'"
     ]
    },
    {
     "data": {
      "image/png": "[encoded data removed]",
      "text/plain": [
       "<Figure size 432x288 with 1 Axes>"
      ]
     },
     "metadata": {
      "needs_background": "light"
     },
     "output_type": "display_data"
    }
   ],
   "source": [
    "scheme = mc.EqualInterval(street['count'])\n",
    "ax = grids[0].plot()\n",
    "gplt.choropleth(street, ax=ax, hue='count', scheme=scheme, legend=True)"
   ]
  },
  {
   "cell_type": "code",
   "execution_count": null,
   "metadata": {},
   "outputs": [],
   "source": [
    "write_list =[]\n",
    "streets=[]\n",
    "for i in range(len(grids)):\n",
    "    stuff\n",
    "    temp = (list(ins), list(outs))\n",
    "    write_list.append(temp)\n",
    "    plotting stuff\n",
    "with open('test.txt', 'a') as outfile:\n",
    "    json.dump(temp, outfile)"
   ]
  },
  {
   "cell_type": "code",
   "execution_count": null,
   "metadata": {},
   "outputs": [],
   "source": [
    "grids[0].at[1593, 'count']"
   ]
  },
  {
   "cell_type": "code",
   "execution_count": null,
   "metadata": {},
   "outputs": [],
   "source": [
    "grids[0][:118].plot()"
   ]
  },
  {
   "cell_type": "code",
   "execution_count": null,
   "metadata": {},
   "outputs": [],
   "source": [
    "import mapclassify"
   ]
  },
  {
   "cell_type": "code",
   "execution_count": null,
   "metadata": {},
   "outputs": [],
   "source": []
  }
 ],
 "metadata": {
  "kernelspec": {
   "display_name": "Python 3",
   "language": "python",
   "name": "python3"
  },
  "language_info": {
   "codemirror_mode": {
    "name": "ipython",
    "version": 3
   },
   "file_extension": ".py",
   "mimetype": "text/x-python",
   "name": "python",
   "nbconvert_exporter": "python",
   "pygments_lexer": "ipython3",
   "version": "3.7.7"
  }
 },
 "nbformat": 4,
 "nbformat_minor": 2
}
